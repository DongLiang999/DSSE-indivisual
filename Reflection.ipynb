{
  "nbformat": 4,
  "nbformat_minor": 0,
  "metadata": {
    "colab": {
      "provenance": []
    },
    "kernelspec": {
      "name": "python3",
      "display_name": "Python 3"
    },
    "language_info": {
      "name": "python"
    }
  },
  "cells": [
    {
      "cell_type": "markdown",
      "source": [
        "# Reflection on learning process and potential use"
      ],
      "metadata": {
        "id": "wPYBt1RIF3qS"
      }
    },
    {
      "cell_type": "markdown",
      "source": [
        "## Learning process"
      ],
      "metadata": {
        "id": "pJJUbOJcF6sW"
      }
    },
    {
      "cell_type": "markdown",
      "source": [
        "\n",
        "**BCC(boundary crossing competence):**\n",
        "\n",
        "1. **Work in a interdisciplinary team.**\n",
        "\n",
        "Our group consists of members from three different master's programs. In our regular group work, we freely share our opinions and respect each other's ideas. I have relatively more experience in programming and the GIS domain, while most of our members have a background in environmental science. Consequently, I often contribute by sharing my ideas on organizing our project plan and implementing it using Python or GIS software. On the other hand, my teammates provide valuable insights on aspects that should be included in the process of analyzing air pollution from an environmental science perspective. Through this collaboration, I've gained significant knowledge about investigating environmental issues.\n",
        "\n",
        "Whenever my teammates require assistance with Python programming, I promptly offer solutions. For instance, I frequently search for answers on GeeksforGeeks and share them with the team. Consequently, they have become acquainted with this useful programming tutorial website. I thoroughly enjoy this collaborative study pattern, as it provides us with an opportunity to leverage each other's strengths, learn from one another, and bridge any information gaps that may arise.\n",
        "\n",
        "2. **Work in a Cross-Cultural group**\n",
        "\n",
        "Participating in a cross-cultural group in this course is an amazing experience. Engaging with teammates from 4 different countries has provided me with a opportunity to broaden my perspective. By communicating with teammates from different cultural backgrounds, I can understand the problem we are trying to address more comprehensively. In different cultural environments, we have different communication styles, academic methods, and problem-solving methods. I get used to different work style of my teammates and i can work with them more efficiently.\n",
        "\n"
      ],
      "metadata": {
        "id": "5N5DL3xUGHc4"
      }
    },
    {
      "cell_type": "markdown",
      "source": [
        "**What went good**:\n",
        "\n",
        "I have gained a lot in this course, and I am particularly enthused about the teaching methodology. The learning environment encourages collaboration within my team and even with other groups. For instance, I acquired insights into applying sentiment analysis on text data extracted from social media from another group. Our project has been instrumental in prompting me to engage in self-study, significantly enhancing my ability to search for and integrate information.\n",
        "\n",
        "The tutorials available on Brightspace have been especially valuable. Through these tutorials, I have acquired proficiency in using SQL to manage and access data. Overall, I appreciate the multifaceted learning experiences offered by this course, allowing me to benefit not only from the structured content but also from the collaborative exchange of knowledge within the class."
      ],
      "metadata": {
        "id": "AFgRY4Z6GKnI"
      }
    },
    {
      "cell_type": "markdown",
      "source": [
        "**What went not good:**\n",
        "\n",
        "Our project faced several challenging issues, particularly during the data acquisition stage. We aimed for data with high temporal resolution, an extended time scale, and consistent spatial resolution. However, in reality, we were only able to obtain less-than-ideal data. It even needed adjustments to our project plan based on the available datasets. Consequently, the outcomes of our project did not meet the initially expected results. The results can only be interpreted in a straightforward manner. It can be challenging to delve deeply into their potential value for the real world."
      ],
      "metadata": {
        "id": "AXa63leqGPcC"
      }
    },
    {
      "cell_type": "markdown",
      "source": [
        "## Potential use"
      ],
      "metadata": {
        "id": "T8Jlz4xGGRIQ"
      }
    },
    {
      "cell_type": "markdown",
      "source": [
        "1. Policy Development: Our project uncovers the relationship between influencing factors and air pollution emissions. It can be a referece for the policymakers when they have to implement targeted strategies to address the most significant contributers to air pollution. For example, transport is one of the most significant factors influencing air quality in Poland. Clean transport can be promoted to mitigate air pollution.\n",
        "\n",
        "2. Urban planning: Municipality could use the information provided by our project to identify the most significant factors contributing to air pollution in their region and adjust the placement of industrial facilities to reduce the air pollution."
      ],
      "metadata": {
        "id": "jEET-OKSGSrf"
      }
    }
  ]
}